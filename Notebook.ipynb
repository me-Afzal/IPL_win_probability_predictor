{
 "cells": [
  {
   "cell_type": "code",
   "execution_count": 6,
   "id": "19ea89df",
   "metadata": {},
   "outputs": [],
   "source": [
    "import pandas as pd\n",
    "import glob\n",
    "from sklearn.model_selection import train_test_split\n",
    "from sklearn.ensemble import RandomForestClassifier\n",
    "from sklearn.metrics import accuracy_score, roc_auc_score\n",
    "from imblearn.over_sampling import SMOTE\n",
    "from sklearn.model_selection import train_test_split"
   ]
  },
  {
   "cell_type": "code",
   "execution_count": 3,
   "id": "02f52765",
   "metadata": {},
   "outputs": [
    {
     "name": "stdout",
     "output_type": "stream",
     "text": [
      "Dataset size for Chennai Super Kings: (13550, 11)\n"
     ]
    },
    {
     "data": {
      "text/html": [
       "<div>\n",
       "<style scoped>\n",
       "    .dataframe tbody tr th:only-of-type {\n",
       "        vertical-align: middle;\n",
       "    }\n",
       "\n",
       "    .dataframe tbody tr th {\n",
       "        vertical-align: top;\n",
       "    }\n",
       "\n",
       "    .dataframe thead th {\n",
       "        text-align: right;\n",
       "    }\n",
       "</style>\n",
       "<table border=\"1\" class=\"dataframe\">\n",
       "  <thead>\n",
       "    <tr style=\"text-align: right;\">\n",
       "      <th></th>\n",
       "      <th>match_id</th>\n",
       "      <th>season</th>\n",
       "      <th>venue</th>\n",
       "      <th>chasing_team</th>\n",
       "      <th>runs</th>\n",
       "      <th>wickets</th>\n",
       "      <th>runs_required</th>\n",
       "      <th>balls_remaining</th>\n",
       "      <th>crr</th>\n",
       "      <th>rrr</th>\n",
       "      <th>win</th>\n",
       "    </tr>\n",
       "  </thead>\n",
       "  <tbody>\n",
       "    <tr>\n",
       "      <th>0</th>\n",
       "      <td>1.0</td>\n",
       "      <td>2018</td>\n",
       "      <td>Wankhede Stadium</td>\n",
       "      <td>Chennai Super Kings</td>\n",
       "      <td>0</td>\n",
       "      <td>0</td>\n",
       "      <td>165</td>\n",
       "      <td>119</td>\n",
       "      <td>0.0</td>\n",
       "      <td>8.319328</td>\n",
       "      <td>1</td>\n",
       "    </tr>\n",
       "    <tr>\n",
       "      <th>1</th>\n",
       "      <td>1.0</td>\n",
       "      <td>2018</td>\n",
       "      <td>Wankhede Stadium</td>\n",
       "      <td>Chennai Super Kings</td>\n",
       "      <td>1</td>\n",
       "      <td>0</td>\n",
       "      <td>164</td>\n",
       "      <td>118</td>\n",
       "      <td>3.0</td>\n",
       "      <td>8.338983</td>\n",
       "      <td>1</td>\n",
       "    </tr>\n",
       "    <tr>\n",
       "      <th>2</th>\n",
       "      <td>1.0</td>\n",
       "      <td>2018</td>\n",
       "      <td>Wankhede Stadium</td>\n",
       "      <td>Chennai Super Kings</td>\n",
       "      <td>2</td>\n",
       "      <td>0</td>\n",
       "      <td>163</td>\n",
       "      <td>117</td>\n",
       "      <td>4.0</td>\n",
       "      <td>8.358974</td>\n",
       "      <td>1</td>\n",
       "    </tr>\n",
       "    <tr>\n",
       "      <th>3</th>\n",
       "      <td>1.0</td>\n",
       "      <td>2018</td>\n",
       "      <td>Wankhede Stadium</td>\n",
       "      <td>Chennai Super Kings</td>\n",
       "      <td>3</td>\n",
       "      <td>0</td>\n",
       "      <td>162</td>\n",
       "      <td>116</td>\n",
       "      <td>4.5</td>\n",
       "      <td>8.379310</td>\n",
       "      <td>1</td>\n",
       "    </tr>\n",
       "    <tr>\n",
       "      <th>4</th>\n",
       "      <td>1.0</td>\n",
       "      <td>2018</td>\n",
       "      <td>Wankhede Stadium</td>\n",
       "      <td>Chennai Super Kings</td>\n",
       "      <td>3</td>\n",
       "      <td>0</td>\n",
       "      <td>162</td>\n",
       "      <td>115</td>\n",
       "      <td>3.6</td>\n",
       "      <td>8.452174</td>\n",
       "      <td>1</td>\n",
       "    </tr>\n",
       "  </tbody>\n",
       "</table>\n",
       "</div>"
      ],
      "text/plain": [
       "   match_id season             venue         chasing_team  runs  wickets  \\\n",
       "0       1.0   2018  Wankhede Stadium  Chennai Super Kings     0        0   \n",
       "1       1.0   2018  Wankhede Stadium  Chennai Super Kings     1        0   \n",
       "2       1.0   2018  Wankhede Stadium  Chennai Super Kings     2        0   \n",
       "3       1.0   2018  Wankhede Stadium  Chennai Super Kings     3        0   \n",
       "4       1.0   2018  Wankhede Stadium  Chennai Super Kings     3        0   \n",
       "\n",
       "   runs_required  balls_remaining  crr       rrr  win  \n",
       "0            165              119  0.0  8.319328    1  \n",
       "1            164              118  3.0  8.338983    1  \n",
       "2            163              117  4.0  8.358974    1  \n",
       "3            162              116  4.5  8.379310    1  \n",
       "4            162              115  3.6  8.452174    1  "
      ]
     },
     "execution_count": 3,
     "metadata": {},
     "output_type": "execute_result"
    }
   ],
   "source": [
    "# 1. Union CSVs for one team (example: Chennai Super Kings)\n",
    "team_name = \"Chennai Super Kings\"\n",
    "files = glob.glob(f\"match_data/{team_name}_*.csv\")\n",
    "\n",
    "dfs = [pd.read_csv(f) for f in files]\n",
    "df = pd.concat(dfs, ignore_index=True)\n",
    "print(f\"Dataset size for {team_name}: {df.shape}\")\n",
    "df.head()"
   ]
  },
  {
   "cell_type": "code",
   "execution_count": 4,
   "id": "0eaa831c",
   "metadata": {},
   "outputs": [
    {
     "data": {
      "text/plain": [
       "win\n",
       "1    8196\n",
       "0    5354\n",
       "Name: count, dtype: int64"
      ]
     },
     "execution_count": 4,
     "metadata": {},
     "output_type": "execute_result"
    }
   ],
   "source": [
    "df['win'].value_counts()"
   ]
  },
  {
   "cell_type": "code",
   "execution_count": 5,
   "id": "2f9bbce4",
   "metadata": {},
   "outputs": [
    {
     "name": "stdout",
     "output_type": "stream",
     "text": [
      "0    1\n",
      "1    1\n",
      "2    1\n",
      "3    1\n",
      "4    1\n",
      "Name: win, dtype: int64\n"
     ]
    },
    {
     "data": {
      "text/html": [
       "<div>\n",
       "<style scoped>\n",
       "    .dataframe tbody tr th:only-of-type {\n",
       "        vertical-align: middle;\n",
       "    }\n",
       "\n",
       "    .dataframe tbody tr th {\n",
       "        vertical-align: top;\n",
       "    }\n",
       "\n",
       "    .dataframe thead th {\n",
       "        text-align: right;\n",
       "    }\n",
       "</style>\n",
       "<table border=\"1\" class=\"dataframe\">\n",
       "  <thead>\n",
       "    <tr style=\"text-align: right;\">\n",
       "      <th></th>\n",
       "      <th>runs</th>\n",
       "      <th>wickets</th>\n",
       "      <th>runs_required</th>\n",
       "      <th>balls_remaining</th>\n",
       "      <th>crr</th>\n",
       "      <th>rrr</th>\n",
       "    </tr>\n",
       "  </thead>\n",
       "  <tbody>\n",
       "    <tr>\n",
       "      <th>0</th>\n",
       "      <td>0</td>\n",
       "      <td>0</td>\n",
       "      <td>165</td>\n",
       "      <td>119</td>\n",
       "      <td>0.0</td>\n",
       "      <td>8.319328</td>\n",
       "    </tr>\n",
       "    <tr>\n",
       "      <th>1</th>\n",
       "      <td>1</td>\n",
       "      <td>0</td>\n",
       "      <td>164</td>\n",
       "      <td>118</td>\n",
       "      <td>3.0</td>\n",
       "      <td>8.338983</td>\n",
       "    </tr>\n",
       "    <tr>\n",
       "      <th>2</th>\n",
       "      <td>2</td>\n",
       "      <td>0</td>\n",
       "      <td>163</td>\n",
       "      <td>117</td>\n",
       "      <td>4.0</td>\n",
       "      <td>8.358974</td>\n",
       "    </tr>\n",
       "    <tr>\n",
       "      <th>3</th>\n",
       "      <td>3</td>\n",
       "      <td>0</td>\n",
       "      <td>162</td>\n",
       "      <td>116</td>\n",
       "      <td>4.5</td>\n",
       "      <td>8.379310</td>\n",
       "    </tr>\n",
       "    <tr>\n",
       "      <th>4</th>\n",
       "      <td>3</td>\n",
       "      <td>0</td>\n",
       "      <td>162</td>\n",
       "      <td>115</td>\n",
       "      <td>3.6</td>\n",
       "      <td>8.452174</td>\n",
       "    </tr>\n",
       "  </tbody>\n",
       "</table>\n",
       "</div>"
      ],
      "text/plain": [
       "   runs  wickets  runs_required  balls_remaining  crr       rrr\n",
       "0     0        0            165              119  0.0  8.319328\n",
       "1     1        0            164              118  3.0  8.338983\n",
       "2     2        0            163              117  4.0  8.358974\n",
       "3     3        0            162              116  4.5  8.379310\n",
       "4     3        0            162              115  3.6  8.452174"
      ]
     },
     "execution_count": 5,
     "metadata": {},
     "output_type": "execute_result"
    }
   ],
   "source": [
    "x=df[['runs','wickets','runs_required','balls_remaining','crr','rrr']]\n",
    "y=df['win']\n",
    "print(y.head())\n",
    "x.head()"
   ]
  },
  {
   "cell_type": "code",
   "execution_count": 7,
   "id": "abb752fd",
   "metadata": {},
   "outputs": [
    {
     "name": "stdout",
     "output_type": "stream",
     "text": [
      "Before SMOTE: win\n",
      "1    6557\n",
      "0    4283\n",
      "Name: count, dtype: int64\n",
      "After SMOTE: win\n",
      "1    6557\n",
      "0    6557\n",
      "Name: count, dtype: int64\n"
     ]
    }
   ],
   "source": [
    "# Split first\n",
    "x_train, x_test, y_train, y_test = train_test_split(\n",
    "    x, y, test_size=0.2, random_state=42, stratify=y\n",
    ")\n",
    "\n",
    "# Apply SMOTE\n",
    "sm = SMOTE(random_state=42)\n",
    "x_train_res, y_train_res = sm.fit_resample(x_train, y_train)\n",
    "\n",
    "print(\"Before SMOTE:\", y_train.value_counts())\n",
    "print(\"After SMOTE:\", y_train_res.value_counts())"
   ]
  },
  {
   "cell_type": "code",
   "execution_count": null,
   "id": "082dc399",
   "metadata": {},
   "outputs": [
    {
     "name": "stdout",
     "output_type": "stream",
     "text": [
      "Accuracy: 0.9328413284132842\n",
      "ROC AUC: 0.9828266877220686\n"
     ]
    }
   ],
   "source": [
    "#Train Model\n",
    "model=RandomForestClassifier(n_estimators=100, random_state=42)\n",
    "model.fit(x_train_res, y_train_res)\n",
    "y_pred=model.predict(x_test)\n",
    "y_prob = model.predict_proba(x_test)[:, 1]\n",
    "print(\"Accuracy:\", accuracy_score(y_test, y_pred))\n",
    "print(\"ROC AUC:\", roc_auc_score(y_test, y_prob))"
   ]
  },
  {
   "cell_type": "code",
   "execution_count": 10,
   "id": "54017fec",
   "metadata": {},
   "outputs": [],
   "source": [
    "preprocessed_df=pd.concat([x,y],axis=1)\n",
    "preprocessed_df.to_csv(f\"preprocessed_{team_name.replace(' ','_')}.csv\",index=False)"
   ]
  },
  {
   "cell_type": "code",
   "execution_count": 12,
   "id": "2a1a7fcf",
   "metadata": {},
   "outputs": [],
   "source": [
    "#Inference\n",
    "def predict_win_probability(runs, wickets, runs_required, balls_remaining, crr, rrr):\n",
    "    input_data = pd.DataFrame([[runs, wickets, runs_required, balls_remaining, crr, rrr]],\n",
    "                              columns=['runs', 'wickets', 'runs_required', 'balls_remaining', 'crr', 'rrr'])\n",
    "    win_prob = model.predict_proba(input_data)[:, 1][0]\n",
    "    return win_prob   "
   ]
  },
  {
   "cell_type": "code",
   "execution_count": 16,
   "id": "958e4626",
   "metadata": {},
   "outputs": [
    {
     "name": "stdout",
     "output_type": "stream",
     "text": [
      "Win Probability: 72.00%\n"
     ]
    }
   ],
   "source": [
    "total_ball=120\n",
    "balls_faced=40\n",
    "runs=150\n",
    "wickets=5\n",
    "runs_required=100\n",
    "balls_remaining=total_ball-balls_faced\n",
    "crr=(runs/balls_faced)*6\n",
    "rrr=(runs_required/(balls_remaining))*6\n",
    "\n",
    "result=predict_win_probability(runs, wickets, runs_required, balls_remaining, crr, rrr)\n",
    "print(f\"Win Probability: {result*100:.2f}%\")"
   ]
  },
  {
   "cell_type": "code",
   "execution_count": null,
   "id": "9571888c",
   "metadata": {},
   "outputs": [],
   "source": []
  }
 ],
 "metadata": {
  "kernelspec": {
   "display_name": "tf_env",
   "language": "python",
   "name": "python3"
  },
  "language_info": {
   "codemirror_mode": {
    "name": "ipython",
    "version": 3
   },
   "file_extension": ".py",
   "mimetype": "text/x-python",
   "name": "python",
   "nbconvert_exporter": "python",
   "pygments_lexer": "ipython3",
   "version": "3.11.0"
  }
 },
 "nbformat": 4,
 "nbformat_minor": 5
}
